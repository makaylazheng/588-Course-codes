{
 "cells": [
  {
   "cell_type": "code",
   "execution_count": null,
   "metadata": {},
   "outputs": [],
   "source": [
    "import torch\n",
    "import torch.nn as nn  # All neural network modules\n",
    "import torch.optim as optim # For optimizers like SGD\n",
    "from torch.utils.data import TensorDataset, random_split, DataLoader  # Gives easier dataset managment\n",
    "import torchvision\n",
    "import torchvision.transforms as transforms  # Transformations we can perform on our dataset for augmentation\n",
    "import matplotlib.pyplot as plt\n",
    "import numpy as np"
   ]
  },
  {
   "cell_type": "code",
   "execution_count": 90,
   "metadata": {},
   "outputs": [
    {
     "name": "stdout",
     "output_type": "stream",
     "text": [
      "Using device: cuda:0\n"
     ]
    }
   ],
   "source": [
    "# use GPU\n",
    "device = torch.device(\"cuda:0\" if torch.cuda.is_available() else \"cpu\")\n",
    "print(f\"Using device: {device}\")"
   ]
  },
  {
   "cell_type": "markdown",
   "metadata": {},
   "source": [
    "In this demo code, we use CIFAR-10 dataset to illustrate how to construct and train a CNN. We first construct a simple CNN as a toy model, then we use a pretrained ResNet model on CIFAR-10. "
   ]
  },
  {
   "cell_type": "markdown",
   "metadata": {},
   "source": [
    "# CIFAR-10 dataset\n"
   ]
  },
  {
   "cell_type": "code",
   "execution_count": null,
   "metadata": {},
   "outputs": [
    {
     "name": "stdout",
     "output_type": "stream",
     "text": [
      "Files already downloaded and verified\n",
      "Files already downloaded and verified\n"
     ]
    }
   ],
   "source": [
    "# Define how we transform the dataset\n",
    "transform = transforms.Compose([\n",
    "    transforms.ToTensor(),\n",
    "    transforms.Normalize((0.5, 0.5, 0.5), (0.5, 0.5, 0.5))\n",
    "])\n",
    "\n",
    "# load the CItorch.nn.functionalAR-10 dataset\n",
    "train_dataset = torchvision.datasets.CIFAR10(root='./CIFAR10', train=True,\n",
    "                                             download=True, transform=transform)\n",
    "test_dataset = torchvision.datasets.CIFAR10(root='./CIFAR10', train=False,\n",
    "                                            download=True, transform=transform)"
   ]
  },
  {
   "cell_type": "code",
   "execution_count": 99,
   "metadata": {},
   "outputs": [],
   "source": [
    "# construct data loaders\n",
    "batch_size = 128\n",
    "train_loader = DataLoader(train_dataset, batch_size=batch_size,\n",
    "                                           shuffle=True,\n",
    "                                           pin_memory=True, # speeds up GPU transfers\n",
    "                                           num_workers=4) # allows asynchronous data transfers\n",
    "test_loader = DataLoader(test_dataset, batch_size=batch_size,\n",
    "                                          shuffle=False,\n",
    "                                          pin_memory=True, \n",
    "                                          num_workers=4)\n",
    "\n",
    "classes = ('plane', 'car', 'bird', 'cat', 'deer', 'dog', 'frog', 'horse', 'ship', 'truck')\n"
   ]
  },
  {
   "cell_type": "code",
   "execution_count": 60,
   "metadata": {},
   "outputs": [
    {
     "name": "stdout",
     "output_type": "stream",
     "text": [
      "['frog', 'truck', 'bird', 'car']\n"
     ]
    },
    {
     "data": {
      "image/png": "[encoded data removed]",
      "text/plain": [
       "<Figure size 640x480 with 1 Axes>"
      ]
     },
     "metadata": {},
     "output_type": "display_data"
    }
   ],
   "source": [
    "# visualize some samples\n",
    "def imshow(img):\n",
    "    img = img / 2 + 0.5\n",
    "    plt.imshow(np.transpose(img.numpy(), (1, 2, 0)))\n",
    "    \n",
    "image_iter = iter(train_loader)\n",
    "images, label_idx = next(image_iter)\n",
    "imshow(torchvision.utils.make_grid(images[:4]))\n",
    "# labels\n",
    "label_idx = label_idx[:4]\n",
    "print([classes[idx] for idx in label_idx])"
   ]
  },
  {
   "cell_type": "markdown",
   "metadata": {},
   "source": [
    "# Define the model architecture"
   ]
  },
  {
   "cell_type": "code",
   "execution_count": 6,
   "metadata": {},
   "outputs": [],
   "source": [
    "# Simple CNN\n",
    "class SimpleCNN(nn.Module):\n",
    "    def __init__(self):\n",
    "        super(SimpleCNN, self).__init__()\n",
    "        # feature extraction (convolutional and pooling layers)\n",
    "        self.features = nn.Sequential(\n",
    "            nn.Conv2d(in_channels=3, out_channels=32, kernel_size=3, padding=1), # first convolutional layer\n",
    "            nn.ReLU(), # activation function\n",
    "            nn.MaxPool2d(kernel_size=2, stride=2), # maximum pooling layer\n",
    "            nn.Conv2d(in_channels=32, out_channels=64, kernel_size=3, padding=1), # second convolutional layer\n",
    "            nn.ReLU(), # activation function\n",
    "            nn.MaxPool2d(kernel_size=2, stride=2) # maximum pooling layer \n",
    "        )\n",
    "        # fully connected layers (classifier)\n",
    "        self.classifier = nn.Sequential(\n",
    "            nn.Linear(64 * 8 * 8, 512), # Flattened 64 feature maps of size 8x8 into a single vector\n",
    "            nn.ReLU(), # activation function\n",
    "            nn.Dropout(0.5), # dropout probability of the first layer in FCNN\n",
    "            nn.Linear(512, 10) # output layer with 10 classes\n",
    "        )\n",
    "\n",
    "    def forward(self, x):\n",
    "        x = self.features(x)\n",
    "        x = x.view(x.size(0), -1) # Flatten the output from (batch_size, 64, 8, 8) → (batch_size, 64 * 8 * 8)\n",
    "        x = self.classifier(x)\n",
    "        return x\n"
   ]
  },
  {
   "cell_type": "code",
   "execution_count": null,
   "metadata": {},
   "outputs": [],
   "source": [
    "# construct the CNN, loss function and optimizer\n",
    "simple_cnn = SimpleCNN().to(device)\n",
    "criterion = nn.CrossEntropyLoss() # loss function\n",
    "optimizer = optim.SGD(simple_cnn.parameters(), lr=0.001)"
   ]
  },
  {
   "cell_type": "markdown",
   "metadata": {},
   "source": [
    "# Training"
   ]
  },
  {
   "cell_type": "code",
   "execution_count": 119,
   "metadata": {},
   "outputs": [],
   "source": [
    "def train_model(model, criterion, optimizer, scheduler=None, num_epochs=10):\n",
    "    train_loss, val_loss, train_acc, val_acc = [], [], [], []\n",
    "    best_val_acc = 0.0\n",
    "    patience = 10\n",
    "    no_improve = 0\n",
    "    for epoch in range(num_epochs):\n",
    "        # Training phase\n",
    "        model.train() # set the model at training status\n",
    "        epoch_train_loss, correct, total = 0, 0, 0\n",
    "        for inputs, labels in train_loader:      \n",
    "            inputs = inputs.to(device)\n",
    "            labels = labels.to(device)  \n",
    "            optimizer.zero_grad()\n",
    "            outputs = model(inputs)\n",
    "            loss = criterion(outputs, labels)\n",
    "            loss.backward()\n",
    "            optimizer.step()\n",
    "            \n",
    "            epoch_train_loss += loss.item()\n",
    "            _, predicted = torch.max(outputs.data, 1)\n",
    "            total += labels.size(0)\n",
    "            correct += (predicted == labels).sum().item()\n",
    "\n",
    "        train_loss_one = epoch_train_loss/len(train_loader)\n",
    "        train_acc_one = 100 * correct / total\n",
    "\n",
    "        # Validation phase\n",
    "        model.eval() # set the model at evaluation status\n",
    "        epoch_val_loss, correct, total = 0, 0, 0\n",
    "        with torch.no_grad():\n",
    "            for inputs, labels in test_loader:\n",
    "                inputs = inputs.to(device)\n",
    "                labels = labels.to(device)\n",
    "                outputs = model(inputs)\n",
    "                loss = criterion(outputs, labels)\n",
    "                \n",
    "                epoch_val_loss += loss.item()\n",
    "                _, predicted = torch.max(outputs.data, 1)\n",
    "                total += labels.size(0)\n",
    "                correct += (predicted == labels).sum().item()\n",
    "\n",
    "        val_loss_one = epoch_val_loss/len(test_loader)\n",
    "        val_acc_one = 100 * correct / total\n",
    "\n",
    "        if scheduler is not None:\n",
    "            scheduler.step(val_loss_one)\n",
    "\n",
    "        print(f'Epoch {epoch+1}: '\n",
    "            f'Train Loss: {train_loss_one:.4f}, Val Loss: {val_loss_one:.4f} | '\n",
    "            f'Train Acc: {train_acc_one:.2f}%, Val Acc: {val_acc_one:.2f}%')\n",
    "        \n",
    "        train_loss.append(train_loss_one)\n",
    "        val_loss.append(val_loss_one)\n",
    "        train_acc.append(train_acc_one)\n",
    "        val_acc.append(val_acc_one)\n",
    "\n",
    "        if val_acc_one > best_val_acc:\n",
    "            best_val_acc = val_acc_one\n",
    "            no_improve = 0\n",
    "        else:\n",
    "            no_improve += 1\n",
    "            if no_improve >= patience:\n",
    "                print(\"Early stopping\")\n",
    "                break\n",
    "        \n",
    "        \n",
    "    return train_loss, val_loss, train_acc, val_acc\n",
    "    \n"
   ]
  },
  {
   "cell_type": "code",
   "execution_count": 105,
   "metadata": {},
   "outputs": [
    {
     "name": "stdout",
     "output_type": "stream",
     "text": [
      "Number of trainable parameters: 2122186\n"
     ]
    }
   ],
   "source": [
    "num_params = sum(p.numel() for p in simple_cnn.parameters() if p.requires_grad)\n",
    "print(\"Number of trainable parameters:\", num_params)"
   ]
  },
  {
   "cell_type": "code",
   "execution_count": 11,
   "metadata": {},
   "outputs": [
    {
     "name": "stdout",
     "output_type": "stream",
     "text": [
      "Training Simple CNN:\n",
      "Epoch 1: Train Loss: 2.2900, Val Loss: 2.2839 | Train Acc: 16.05%, Val Acc: 20.96%\n",
      "Epoch 2: Train Loss: 2.2787, Val Loss: 2.2708 | Train Acc: 19.45%, Val Acc: 24.59%\n",
      "Epoch 3: Train Loss: 2.2640, Val Loss: 2.2527 | Train Acc: 21.71%, Val Acc: 26.00%\n",
      "Epoch 4: Train Loss: 2.2428, Val Loss: 2.2264 | Train Acc: 23.33%, Val Acc: 26.57%\n",
      "Epoch 5: Train Loss: 2.2131, Val Loss: 2.1902 | Train Acc: 24.04%, Val Acc: 26.80%\n",
      "Epoch 6: Train Loss: 2.1758, Val Loss: 2.1467 | Train Acc: 24.69%, Val Acc: 26.94%\n",
      "Epoch 7: Train Loss: 2.1360, Val Loss: 2.1030 | Train Acc: 25.23%, Val Acc: 27.72%\n",
      "Epoch 8: Train Loss: 2.0994, Val Loss: 2.0637 | Train Acc: 26.25%, Val Acc: 28.39%\n",
      "Epoch 9: Train Loss: 2.0672, Val Loss: 2.0288 | Train Acc: 27.20%, Val Acc: 29.27%\n",
      "Epoch 10: Train Loss: 2.0361, Val Loss: 1.9969 | Train Acc: 28.02%, Val Acc: 30.41%\n",
      "Epoch 11: Train Loss: 2.0077, Val Loss: 1.9665 | Train Acc: 28.95%, Val Acc: 30.95%\n",
      "Epoch 12: Train Loss: 1.9798, Val Loss: 1.9375 | Train Acc: 29.76%, Val Acc: 32.17%\n",
      "Epoch 13: Train Loss: 1.9531, Val Loss: 1.9101 | Train Acc: 30.70%, Val Acc: 33.15%\n",
      "Epoch 14: Train Loss: 1.9281, Val Loss: 1.8851 | Train Acc: 31.55%, Val Acc: 33.88%\n",
      "Epoch 15: Train Loss: 1.9049, Val Loss: 1.8616 | Train Acc: 32.29%, Val Acc: 34.89%\n",
      "Epoch 16: Train Loss: 1.8836, Val Loss: 1.8401 | Train Acc: 32.98%, Val Acc: 35.66%\n",
      "Epoch 17: Train Loss: 1.8636, Val Loss: 1.8197 | Train Acc: 33.92%, Val Acc: 36.10%\n",
      "Epoch 18: Train Loss: 1.8432, Val Loss: 1.8002 | Train Acc: 34.64%, Val Acc: 36.78%\n",
      "Epoch 19: Train Loss: 1.8235, Val Loss: 1.7821 | Train Acc: 35.31%, Val Acc: 37.18%\n",
      "Epoch 20: Train Loss: 1.8066, Val Loss: 1.7642 | Train Acc: 36.04%, Val Acc: 37.95%\n",
      "Epoch 21: Train Loss: 1.7887, Val Loss: 1.7470 | Train Acc: 36.52%, Val Acc: 38.63%\n",
      "Epoch 22: Train Loss: 1.7742, Val Loss: 1.7314 | Train Acc: 37.05%, Val Acc: 39.43%\n",
      "Epoch 23: Train Loss: 1.7599, Val Loss: 1.7172 | Train Acc: 37.79%, Val Acc: 40.12%\n",
      "Epoch 24: Train Loss: 1.7432, Val Loss: 1.7012 | Train Acc: 38.19%, Val Acc: 40.17%\n",
      "Epoch 25: Train Loss: 1.7319, Val Loss: 1.6877 | Train Acc: 38.69%, Val Acc: 40.75%\n",
      "Epoch 26: Train Loss: 1.7166, Val Loss: 1.6728 | Train Acc: 39.19%, Val Acc: 41.10%\n",
      "Epoch 27: Train Loss: 1.7036, Val Loss: 1.6592 | Train Acc: 39.43%, Val Acc: 41.98%\n",
      "Epoch 28: Train Loss: 1.6898, Val Loss: 1.6459 | Train Acc: 39.95%, Val Acc: 42.33%\n",
      "Epoch 29: Train Loss: 1.6771, Val Loss: 1.6326 | Train Acc: 40.46%, Val Acc: 42.69%\n",
      "Epoch 30: Train Loss: 1.6642, Val Loss: 1.6188 | Train Acc: 41.00%, Val Acc: 42.97%\n",
      "Epoch 31: Train Loss: 1.6516, Val Loss: 1.6057 | Train Acc: 41.34%, Val Acc: 43.34%\n",
      "Epoch 32: Train Loss: 1.6387, Val Loss: 1.5928 | Train Acc: 41.91%, Val Acc: 43.78%\n",
      "Epoch 33: Train Loss: 1.6253, Val Loss: 1.5795 | Train Acc: 42.08%, Val Acc: 44.41%\n",
      "Epoch 34: Train Loss: 1.6134, Val Loss: 1.5672 | Train Acc: 42.54%, Val Acc: 44.48%\n",
      "Epoch 35: Train Loss: 1.6004, Val Loss: 1.5548 | Train Acc: 42.95%, Val Acc: 44.97%\n",
      "Epoch 36: Train Loss: 1.5883, Val Loss: 1.5421 | Train Acc: 43.41%, Val Acc: 45.47%\n",
      "Epoch 37: Train Loss: 1.5756, Val Loss: 1.5299 | Train Acc: 43.74%, Val Acc: 45.79%\n",
      "Epoch 38: Train Loss: 1.5665, Val Loss: 1.5188 | Train Acc: 44.24%, Val Acc: 46.24%\n",
      "Epoch 39: Train Loss: 1.5528, Val Loss: 1.5083 | Train Acc: 44.55%, Val Acc: 46.48%\n",
      "Epoch 40: Train Loss: 1.5442, Val Loss: 1.4973 | Train Acc: 44.82%, Val Acc: 46.73%\n",
      "Epoch 41: Train Loss: 1.5326, Val Loss: 1.4874 | Train Acc: 45.23%, Val Acc: 47.29%\n",
      "Epoch 42: Train Loss: 1.5244, Val Loss: 1.4780 | Train Acc: 45.29%, Val Acc: 47.51%\n",
      "Epoch 43: Train Loss: 1.5143, Val Loss: 1.4685 | Train Acc: 45.93%, Val Acc: 47.97%\n",
      "Epoch 44: Train Loss: 1.5052, Val Loss: 1.4606 | Train Acc: 46.08%, Val Acc: 48.24%\n",
      "Epoch 45: Train Loss: 1.4954, Val Loss: 1.4508 | Train Acc: 46.61%, Val Acc: 48.35%\n",
      "Epoch 46: Train Loss: 1.4878, Val Loss: 1.4413 | Train Acc: 46.75%, Val Acc: 48.82%\n",
      "Epoch 47: Train Loss: 1.4784, Val Loss: 1.4344 | Train Acc: 46.92%, Val Acc: 49.16%\n",
      "Epoch 48: Train Loss: 1.4698, Val Loss: 1.4258 | Train Acc: 47.37%, Val Acc: 49.14%\n",
      "Epoch 49: Train Loss: 1.4609, Val Loss: 1.4186 | Train Acc: 47.56%, Val Acc: 49.70%\n",
      "Epoch 50: Train Loss: 1.4573, Val Loss: 1.4112 | Train Acc: 47.60%, Val Acc: 49.90%\n",
      "Epoch 51: Train Loss: 1.4497, Val Loss: 1.4043 | Train Acc: 48.02%, Val Acc: 50.16%\n",
      "Epoch 52: Train Loss: 1.4383, Val Loss: 1.3980 | Train Acc: 48.50%, Val Acc: 50.05%\n",
      "Epoch 53: Train Loss: 1.4323, Val Loss: 1.3916 | Train Acc: 48.55%, Val Acc: 50.15%\n",
      "Epoch 54: Train Loss: 1.4269, Val Loss: 1.3852 | Train Acc: 48.63%, Val Acc: 50.51%\n",
      "Epoch 55: Train Loss: 1.4195, Val Loss: 1.3787 | Train Acc: 48.99%, Val Acc: 50.71%\n",
      "Epoch 56: Train Loss: 1.4136, Val Loss: 1.3721 | Train Acc: 49.17%, Val Acc: 51.04%\n",
      "Epoch 57: Train Loss: 1.4065, Val Loss: 1.3668 | Train Acc: 49.59%, Val Acc: 51.19%\n",
      "Epoch 58: Train Loss: 1.3999, Val Loss: 1.3604 | Train Acc: 49.87%, Val Acc: 51.46%\n",
      "Epoch 59: Train Loss: 1.3954, Val Loss: 1.3555 | Train Acc: 49.99%, Val Acc: 51.60%\n",
      "Epoch 60: Train Loss: 1.3909, Val Loss: 1.3516 | Train Acc: 50.24%, Val Acc: 51.81%\n",
      "Epoch 61: Train Loss: 1.3825, Val Loss: 1.3455 | Train Acc: 50.27%, Val Acc: 51.76%\n",
      "Epoch 62: Train Loss: 1.3775, Val Loss: 1.3406 | Train Acc: 50.48%, Val Acc: 51.76%\n",
      "Epoch 63: Train Loss: 1.3727, Val Loss: 1.3350 | Train Acc: 50.72%, Val Acc: 52.50%\n",
      "Epoch 64: Train Loss: 1.3671, Val Loss: 1.3305 | Train Acc: 50.96%, Val Acc: 52.79%\n",
      "Epoch 65: Train Loss: 1.3630, Val Loss: 1.3252 | Train Acc: 51.09%, Val Acc: 52.83%\n",
      "Epoch 66: Train Loss: 1.3580, Val Loss: 1.3220 | Train Acc: 51.56%, Val Acc: 53.23%\n",
      "Epoch 67: Train Loss: 1.3521, Val Loss: 1.3149 | Train Acc: 51.56%, Val Acc: 53.06%\n",
      "Epoch 68: Train Loss: 1.3466, Val Loss: 1.3123 | Train Acc: 51.62%, Val Acc: 53.11%\n",
      "Epoch 69: Train Loss: 1.3438, Val Loss: 1.3075 | Train Acc: 51.92%, Val Acc: 53.51%\n",
      "Epoch 70: Train Loss: 1.3372, Val Loss: 1.3045 | Train Acc: 52.02%, Val Acc: 53.52%\n",
      "Epoch 71: Train Loss: 1.3333, Val Loss: 1.3000 | Train Acc: 52.38%, Val Acc: 53.74%\n",
      "Epoch 72: Train Loss: 1.3285, Val Loss: 1.2956 | Train Acc: 52.48%, Val Acc: 53.92%\n",
      "Epoch 73: Train Loss: 1.3231, Val Loss: 1.2930 | Train Acc: 52.56%, Val Acc: 54.28%\n",
      "Epoch 74: Train Loss: 1.3178, Val Loss: 1.2864 | Train Acc: 52.75%, Val Acc: 54.28%\n",
      "Epoch 75: Train Loss: 1.3158, Val Loss: 1.2844 | Train Acc: 52.89%, Val Acc: 54.62%\n",
      "Epoch 76: Train Loss: 1.3115, Val Loss: 1.2782 | Train Acc: 53.10%, Val Acc: 54.55%\n",
      "Epoch 77: Train Loss: 1.3062, Val Loss: 1.2756 | Train Acc: 53.49%, Val Acc: 54.73%\n",
      "Epoch 78: Train Loss: 1.2993, Val Loss: 1.2725 | Train Acc: 53.64%, Val Acc: 54.97%\n",
      "Epoch 79: Train Loss: 1.2973, Val Loss: 1.2677 | Train Acc: 53.55%, Val Acc: 54.87%\n",
      "Epoch 80: Train Loss: 1.2939, Val Loss: 1.2658 | Train Acc: 54.00%, Val Acc: 54.81%\n",
      "Epoch 81: Train Loss: 1.2904, Val Loss: 1.2611 | Train Acc: 53.88%, Val Acc: 55.20%\n",
      "Epoch 82: Train Loss: 1.2830, Val Loss: 1.2593 | Train Acc: 54.01%, Val Acc: 54.93%\n",
      "Epoch 83: Train Loss: 1.2798, Val Loss: 1.2528 | Train Acc: 54.10%, Val Acc: 55.35%\n",
      "Epoch 84: Train Loss: 1.2785, Val Loss: 1.2506 | Train Acc: 54.46%, Val Acc: 55.48%\n",
      "Epoch 85: Train Loss: 1.2725, Val Loss: 1.2462 | Train Acc: 54.65%, Val Acc: 55.52%\n",
      "Epoch 86: Train Loss: 1.2704, Val Loss: 1.2423 | Train Acc: 54.54%, Val Acc: 55.82%\n",
      "Epoch 87: Train Loss: 1.2663, Val Loss: 1.2393 | Train Acc: 54.76%, Val Acc: 56.20%\n",
      "Epoch 88: Train Loss: 1.2628, Val Loss: 1.2350 | Train Acc: 55.01%, Val Acc: 56.27%\n",
      "Epoch 89: Train Loss: 1.2592, Val Loss: 1.2314 | Train Acc: 55.24%, Val Acc: 56.30%\n",
      "Epoch 90: Train Loss: 1.2539, Val Loss: 1.2298 | Train Acc: 55.40%, Val Acc: 56.17%\n",
      "Epoch 91: Train Loss: 1.2500, Val Loss: 1.2240 | Train Acc: 55.56%, Val Acc: 56.44%\n",
      "Epoch 92: Train Loss: 1.2466, Val Loss: 1.2226 | Train Acc: 55.62%, Val Acc: 56.64%\n",
      "Epoch 93: Train Loss: 1.2414, Val Loss: 1.2192 | Train Acc: 55.79%, Val Acc: 56.70%\n",
      "Epoch 94: Train Loss: 1.2401, Val Loss: 1.2153 | Train Acc: 55.80%, Val Acc: 56.63%\n",
      "Epoch 95: Train Loss: 1.2351, Val Loss: 1.2106 | Train Acc: 56.07%, Val Acc: 56.89%\n",
      "Epoch 96: Train Loss: 1.2320, Val Loss: 1.2079 | Train Acc: 56.44%, Val Acc: 57.09%\n",
      "Epoch 97: Train Loss: 1.2277, Val Loss: 1.2062 | Train Acc: 56.44%, Val Acc: 57.08%\n",
      "Epoch 98: Train Loss: 1.2247, Val Loss: 1.2059 | Train Acc: 56.35%, Val Acc: 56.87%\n",
      "Epoch 99: Train Loss: 1.2229, Val Loss: 1.2004 | Train Acc: 56.73%, Val Acc: 57.23%\n",
      "Epoch 100: Train Loss: 1.2194, Val Loss: 1.1947 | Train Acc: 56.74%, Val Acc: 57.65%\n"
     ]
    }
   ],
   "source": [
    "print(\"Training Simple CNN:\")\n",
    "cnn_train_loss, cnn_val_loss, cnn_train_acc, cnn_val_acc = train_model(simple_cnn, criterion, optimizer, num_epochs=100)"
   ]
  },
  {
   "cell_type": "markdown",
   "metadata": {},
   "source": [
    "# A deeper CNN\n",
    "Since CIFAR10 is a relatively small dataset, we need to apply some techniques to avoid overfitting. "
   ]
  },
  {
   "cell_type": "code",
   "execution_count": 132,
   "metadata": {},
   "outputs": [
    {
     "name": "stdout",
     "output_type": "stream",
     "text": [
      "Files already downloaded and verified\n",
      "Files already downloaded and verified\n"
     ]
    }
   ],
   "source": [
    "# use more complex data transformation before training\n",
    "train_transform = transforms.Compose(\n",
    "    [transforms.RandomHorizontalFlip(p=0.5),\n",
    "     transforms.RandomAffine(degrees=(-5, 5), translate=(0.1, 0.1), scale=(0.9, 1.1)),\n",
    "     transforms.ToTensor(),\n",
    "     transforms.Normalize((0.5, 0.5, 0.5), (0.5, 0.5, 0.5))])\n",
    "\n",
    "test_transform = transforms.Compose(\n",
    "    [transforms.ToTensor(),\n",
    "     transforms.Normalize((0.5, 0.5, 0.5), (0.5, 0.5, 0.5))])\n",
    "\n",
    "# read training dataset\n",
    "dataset = torchvision.datasets.CIFAR10(root='./CIFAR10', train=True, download=True, transform=train_transform)\n",
    "train_set, val_set = torch.utils.data.random_split(dataset, [40000, 10000])\n",
    "\n",
    "# construct dataloader\n",
    "train_loader = torch.utils.data.DataLoader(train_set, batch_size=128, shuffle=True, num_workers=8)\n",
    "val_loader = torch.utils.data.DataLoader(val_set, batch_size=128, shuffle=False, num_workers=8)\n",
    "\n",
    "# read testing dataset and construct dataloader\n",
    "test_set = torchvision.datasets.CIFAR10(root='./CIFAR10', train=False, download=True, transform=test_transform)\n",
    "test_loader = torch.utils.data.DataLoader(test_set, batch_size=128, shuffle=False, num_workers=8)\n",
    "\n",
    "classes = ['plane', 'car', 'bird', 'cat', 'deer', 'dog', 'frog', 'horse', 'ship', 'truck']\n",
    "   "
   ]
  },
  {
   "cell_type": "code",
   "execution_count": null,
   "metadata": {},
   "outputs": [],
   "source": [
    "class deepCNN(nn.Module):\n",
    "    def __init__(self):\n",
    "        super(deepCNN, self).__init__()\n",
    "        # Convolutional layers\n",
    "        self.conv1 = nn.Conv2d(3, 128, 5, padding=2)\n",
    "        self.conv2 = nn.Conv2d(128, 128, 5, padding=2)\n",
    "        self.conv3 = nn.Conv2d(128, 256, 3, padding=1)\n",
    "        self.conv4 = nn.Conv2d(256, 256, 3, padding=1)\n",
    "\n",
    "        # Pooling layer (reduces spatial dimensions by half)\n",
    "        self.pool = nn.MaxPool2d(2, 2)\n",
    "\n",
    "        # Batch normalization for convolutional layers\n",
    "        self.bn_conv1 = nn.BatchNorm2d(128)\n",
    "        self.bn_conv2 = nn.BatchNorm2d(128)\n",
    "        self.bn_conv3 = nn.BatchNorm2d(256)\n",
    "        self.bn_conv4 = nn.BatchNorm2d(256)\n",
    "\n",
    "        # Batch normalization for fully connected layers\n",
    "        self.bn_dense1 = nn.BatchNorm1d(1024)\n",
    "        self.bn_dense2 = nn.BatchNorm1d(512)\n",
    "\n",
    "        # Dropout for regularization\n",
    "        self.dropout_conv = nn.Dropout2d(p=0.25)\n",
    "        self.dropout = nn.Dropout(p=0.5)\n",
    "\n",
    "        # Fully connected (dense) layers\n",
    "        self.fc1 = nn.Linear(256 * 8 * 8, 1024)\n",
    "        self.fc2 = nn.Linear(1024, 512)\n",
    "        self.fc3 = nn.Linear(512, 10)\n",
    "\n",
    "    # Forward pass through convolutional layers with ReLU, batch norm, pooling, and dropout\n",
    "    def conv_layers(self, x):\n",
    "        out = F.relu(self.bn_conv1(self.conv1(x)))\n",
    "        out = F.relu(self.bn_conv2(self.conv2(out)))\n",
    "        out = self.pool(out)\n",
    "        out = self.dropout_conv(out)\n",
    "        out = F.relu(self.bn_conv3(self.conv3(out)))\n",
    "        out = F.relu(self.bn_conv4(self.conv4(out)))\n",
    "        out = self.pool(out)\n",
    "        out = self.dropout_conv(out)\n",
    "        return out\n",
    "    \n",
    "    # Forward pass through fully connected layers with ReLU, batch norm, and dropout\n",
    "    def dense_layers(self, x):\n",
    "        out = F.relu(self.bn_dense1(self.fc1(x)))\n",
    "        out = self.dropout(out)\n",
    "        out = F.relu(self.bn_dense2(self.fc2(out)))\n",
    "        out = self.dropout(out)\n",
    "        out = self.fc3(out)  # Final output layer (no activation for logits)\n",
    "        return out\n",
    "\n",
    "    # Complete forward pass\n",
    "    def forward(self, x):\n",
    "        out = self.conv_layers(x)\n",
    "        out = out.view(-1, 256 * 8 * 8)  # Flatten before dense layers\n",
    "        out = self.dense_layers(out)\n",
    "        return out\n",
    "\n",
    "# Model instantiation\n",
    "deep_cnn = deepCNN().to(device)\n",
    "\n",
    "# Calculate and print the number of trainable parameters\n",
    "num_params = sum(p.numel() for p in deep_cnn.parameters() if p.requires_grad)\n",
    "print(\"Number of trainable parameters:\", num_params)"
   ]
  },
  {
   "cell_type": "code",
   "execution_count": null,
   "metadata": {},
   "outputs": [],
   "source": [
    "# Loss function and optimizer\n",
    "criterion = nn.CrossEntropyLoss()  # Cross-entropy for multi-class classification\n",
    "optimizer = optim.Adam(deep_cnn.parameters(), lr=0.01, betas=(0.9, 0.999), eps=1e-08, weight_decay=0, amsgrad=False)\n",
    "\n",
    "# Learning rate scheduler to reduce LR on plateau\n",
    "scheduler = optim.lr_scheduler.ReduceLROnPlateau(optimizer, mode='min', factor=0.1, patience=10, verbose=True, min_lr=0)\n",
    "\n",
    "# Lists to store training/validation loss and accuracy history\n",
    "loss_hist, acc_hist = [], []\n",
    "loss_hist_val, acc_hist_val = [], []\n",
    "\n",
    "# Training loop for 140 epochs\n",
    "for epoch in range(140):\n",
    "    running_loss = 0.0\n",
    "    correct = 0\n",
    "    for data in train_loader:\n",
    "        batch, labels = data\n",
    "        batch, labels = batch.to(device), labels.to(device)\n",
    "\n",
    "        optimizer.zero_grad()  # Reset gradients\n",
    "        outputs = deep_cnn(batch)\n",
    "        loss = criterion(outputs, labels)\n",
    "        loss.backward()  # Backpropagation\n",
    "        optimizer.step()  # Update model parameters\n",
    "\n",
    "        # Compute training statistics\n",
    "        _, predicted = torch.max(outputs, 1)\n",
    "        correct += (predicted == labels).sum().item()\n",
    "        running_loss += loss.item()\n",
    "\n",
    "    # Average training loss and accuracy\n",
    "    avg_loss = running_loss / len(train_set)\n",
    "    avg_acc = correct / len(train_set) * 100\n",
    "    loss_hist.append(avg_loss)\n",
    "    acc_hist.append(avg_acc)\n",
    "\n",
    "    # Validation statistics\n",
    "    deep_cnn.eval()  # Set model to evaluation mode\n",
    "    with torch.no_grad():\n",
    "        loss_val = 0.0\n",
    "        correct_val = 0\n",
    "        for data in val_loader:\n",
    "            batch, labels = data\n",
    "            batch, labels = batch.to(device), labels.to(device)\n",
    "            outputs = deep_cnn(batch)\n",
    "            loss = criterion(outputs, labels)\n",
    "            _, predicted = torch.max(outputs, 1)\n",
    "            correct_val += (predicted == labels).sum().item()\n",
    "            loss_val += loss.item()\n",
    "        avg_loss_val = loss_val / len(val_set)\n",
    "        avg_acc_val = correct_val / len(val_set) * 100\n",
    "        loss_hist_val.append(avg_loss_val)\n",
    "        acc_hist_val.append(avg_acc_val)\n",
    "    deep_cnn.train()  # Back to training mode\n",
    "\n",
    "    # Adjust learning rate based on validation loss\n",
    "    scheduler.step(avg_loss_val)\n",
    "    print(f'Epoch {epoch+1}: '\n",
    "          f'Train Loss: {avg_loss:.4f}, Val Loss: {avg_loss_val:.4f} | '\n",
    "          f'Train Acc: {avg_acc:.2f}%, Val Acc: {avg_acc_val:.2f}%')\n"
   ]
  },
  {
   "cell_type": "markdown",
   "metadata": {},
   "source": [
    "# Comparison between simple CNN and deep CNN"
   ]
  },
  {
   "cell_type": "code",
   "execution_count": 142,
   "metadata": {},
   "outputs": [
    {
     "data": {
      "image/png": "[encoded data removed]",
      "text/plain": [
       "<Figure size 1200x500 with 2 Axes>"
      ]
     },
     "metadata": {},
     "output_type": "display_data"
    }
   ],
   "source": [
    "# comparison between simple CNN and pretrained ResNet-18\n",
    "plt.figure(figsize=(12, 5))\n",
    "\n",
    "plt.subplot(1, 2, 1)\n",
    "plt.plot(cnn_train_loss, label='Simple CNN')\n",
    "plt.plot(loss_hist, label='Pretrained ResNet')\n",
    "plt.title('Training Loss')\n",
    "plt.xlabel('Epoch')\n",
    "plt.legend()\n",
    "\n",
    "plt.subplot(1, 2, 2)\n",
    "plt.plot(cnn_val_acc, label='Simple CNN')\n",
    "plt.plot(acc_hist_val, label='Pretrained ResNet')\n",
    "plt.title('Validation Accuracy')\n",
    "plt.xlabel('Epoch')\n",
    "plt.legend()\n",
    "\n",
    "plt.tight_layout()\n",
    "plt.show()"
   ]
  },
  {
   "cell_type": "code",
   "execution_count": 144,
   "metadata": {},
   "outputs": [
    {
     "name": "stdout",
     "output_type": "stream",
     "text": [
      "\n",
      "Final Test Accuracy:\n",
      "Simple CNN: 57.65%\n",
      "Pretrained ResNet: 91.14%\n"
     ]
    }
   ],
   "source": [
    "def evaluate_model(model, loader):\n",
    "    model.eval()\n",
    "    correct = 0\n",
    "    total = 0\n",
    "    with torch.no_grad():\n",
    "        for inputs, labels in loader:\n",
    "            inputs = inputs.to(device)\n",
    "            labels = labels.to(device)\n",
    "            outputs = model(inputs)\n",
    "            _, predicted = torch.max(outputs.data, 1)\n",
    "            total += labels.size(0)\n",
    "            correct += (predicted == labels).sum().item()\n",
    "    return 100 * correct / total\n",
    "\n",
    "print(f\"\\nFinal Test Accuracy:\")\n",
    "print(f\"Simple CNN: {evaluate_model(simple_cnn, test_loader):.2f}%\")\n",
    "print(f\"Pretrained ResNet: {evaluate_model(deep_cnn, test_loader):.2f}%\")"
   ]
  },
  {
   "cell_type": "code",
   "execution_count": 154,
   "metadata": {},
   "outputs": [
    {
     "name": "stdout",
     "output_type": "stream",
     "text": [
      "GroundTruth: \n",
      "   cat  ship  ship plane\n",
      "Predicted by simple CNN: \n",
      "   cat   car  ship  ship\n",
      "Predicted by deep CNN: \n",
      "   cat  ship  ship plane\n"
     ]
    },
    {
     "data": {
      "image/png": "[encoded data removed]",
      "text/plain": [
       "<Figure size 640x480 with 1 Axes>"
      ]
     },
     "metadata": {},
     "output_type": "display_data"
    }
   ],
   "source": [
    "dataiter = iter(test_loader)\n",
    "images, labels = next(dataiter)\n",
    "images = images[:4]\n",
    "labels = labels[:4]\n",
    "# print images\n",
    "imshow(torchvision.utils.make_grid(images))\n",
    "# True labels\n",
    "print('GroundTruth: \\n', ' '.join('%5s' % classes[labels[j]] for j in range(4)))\n",
    "# prediction from simple CNN\n",
    "outputs = simple_cnn(images.to(device))\n",
    "_, predicted = torch.max(outputs.cpu(), 1)\n",
    "print('Predicted by simple CNN: \\n', ' '.join('%5s' % classes[predicted[j]]\n",
    "                              for j in range(4)))\n",
    "# prediction from pretrained ResNet\n",
    "outputs = deep_cnn(images.to(device))\n",
    "_, predicted = torch.max(outputs.cpu(), 1)\n",
    "print('Predicted by deep CNN: \\n', ' '.join('%5s' % classes[predicted[j]]\n",
    "                              for j in range(4)))"
   ]
  },
  {
   "cell_type": "markdown",
   "metadata": {},
   "source": [
    "Reference\n",
    "\n",
    "https://github.com/GeekAlexis/cifar10-cnn/blob/master/CIFAR_10_CNN.ipynb"
   ]
  }
 ],
 "metadata": {
  "kernelspec": {
   "display_name": "test_env",
   "language": "python",
   "name": "python3"
  },
  "language_info": {
   "codemirror_mode": {
    "name": "ipython",
    "version": 3
   },
   "file_extension": ".py",
   "mimetype": "text/x-python",
   "name": "python",
   "nbconvert_exporter": "python",
   "pygments_lexer": "ipython3",
   "version": "3.10.14"
  }
 },
 "nbformat": 4,
 "nbformat_minor": 2
}
