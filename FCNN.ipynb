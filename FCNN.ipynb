{
 "cells": [
  {
   "cell_type": "code",
   "execution_count": 65,
   "metadata": {},
   "outputs": [],
   "source": [
    "import torch\n",
    "import torch.nn as nn  # All neural network modules\n",
    "import torch.optim as optim # For optimizers like SGD\n",
    "from torch.utils.data import TensorDataset, random_split, DataLoader  # Gives easier dataset managment\n",
    "from torchvision import datasets, transforms\n",
    "import matplotlib.pyplot as plt  # draw plots\n",
    "# torch.manual_seed(2025) # set random seed"
   ]
  },
  {
   "cell_type": "markdown",
   "metadata": {},
   "source": [
    "# MNIST dataset"
   ]
  },
  {
   "cell_type": "code",
   "execution_count": 66,
   "metadata": {},
   "outputs": [],
   "source": [
    "# Define how we transform the dataset\n",
    "transform = transforms.Compose([\n",
    "    transforms.ToTensor(),  # Convert image to a PyTorch tensor and scale pixel values to [0,1]\n",
    "    transforms.Normalize((0.1307,), (0.3081,)),  # Normalize using MNIST mean and std\n",
    "    transforms.Lambda(lambda x: torch.flatten(x))  # Flatten (1, 28, 28) images into 1D (784,) vectors\n",
    "])\n",
    "\n",
    "# read dataset\n",
    "train_dataset = datasets.MNIST(root='./MNIST', train=True, download=True, transform=transform)\n",
    "test_dataset = datasets.MNIST(root='./MNIST', train=False, transform=transform)"
   ]
  },
  {
   "cell_type": "code",
   "execution_count": 67,
   "metadata": {},
   "outputs": [],
   "source": [
    "# Split train into train/validation\n",
    "# validation set is served to monitor val_loss in early stopping and also in parameter tuning\n",
    "train_dataset, val_dataset = random_split(train_dataset, [50000, 10000])"
   ]
  },
  {
   "cell_type": "code",
   "execution_count": 68,
   "metadata": {},
   "outputs": [],
   "source": [
    "# Create data loaders\n",
    "batch_size = 128\n",
    "train_loader = DataLoader(train_dataset, batch_size=batch_size, shuffle=True)\n",
    "val_loader = DataLoader(val_dataset, batch_size=batch_size)\n",
    "test_loader = DataLoader(test_dataset, batch_size=batch_size)"
   ]
  },
  {
   "cell_type": "markdown",
   "metadata": {},
   "source": [
    "# Define the model architecture"
   ]
  },
  {
   "cell_type": "code",
   "execution_count": null,
   "metadata": {},
   "outputs": [],
   "source": [
    "class myFCN(nn.Module):\n",
    "    def __init__(self, dropout_prob=0.3):\n",
    "        super(myFCN, self).__init__()\n",
    "        self.layers = nn.Sequential(\n",
    "            nn.Linear(784, 512), # the input size is 784, the size of the first hidden layer is 512\n",
    "            nn.ReLU(), # activation for the first hidden layer\n",
    "            nn.Dropout(dropout_prob), # dropout probability of the first hidden layer\n",
    "            nn.BatchNorm1d(512), # batch normalization\n",
    "\n",
    "            nn.Linear(512, 256), # the size of the second hidden layer is 256\n",
    "            nn.ReLU(), # activation for the second hidden layer\n",
    "            nn.Dropout(dropout_prob/2), # dropout probability of the second hidden layer\n",
    "\n",
    "            nn.Linear(256, 10) # the size of the output layer is 10 since MNIST has 10 digit classes\n",
    "        )\n",
    "\n",
    "        # Xavier initialization for weights, set bias to 0\n",
    "        for layer in self.layers:\n",
    "            if isinstance(layer, nn.Linear):\n",
    "                # Initialize weights with Xavier Normal Initialization\n",
    "                nn.init.xavier_normal_(layer.weight)\n",
    "                # Initialize biases to zero\n",
    "                nn.init.zeros_(layer.bias)\n",
    "    \n",
    "    def forward(self, x):\n",
    "        return self.layers(x)\n",
    "    \n",
    "    "
   ]
  },
  {
   "cell_type": "code",
   "execution_count": null,
   "metadata": {},
   "outputs": [],
   "source": [
    "# Initialize model with L2 regularization (weight decay)\n",
    "model = myFCN()\n",
    "optimizer = optim.SGD(model.parameters(), lr=0.001, weight_decay=1e-3)  # weight_decay stands for L2 regularization\n",
    "criterion = nn.CrossEntropyLoss() # loss function is cross entropy"
   ]
  },
  {
   "cell_type": "markdown",
   "metadata": {},
   "source": [
    "# Training with Early Stopping"
   ]
  },
  {
   "cell_type": "code",
   "execution_count": 71,
   "metadata": {},
   "outputs": [],
   "source": [
    "train_losses, val_losses = [], []\n",
    "train_accs, val_accs = [], []\n",
    "best_val_loss = float('inf')\n",
    "patience_counter = 0\n",
    "patience = 5  # wait for 5 steps for early stopping"
   ]
  },
  {
   "cell_type": "code",
   "execution_count": 72,
   "metadata": {},
   "outputs": [
    {
     "name": "stdout",
     "output_type": "stream",
     "text": [
      "Epoch 1: Train Loss: 1.8650, Val Loss: 1.0593 | Train Acc: 38.61%, Val Acc: 72.14%\n",
      "Epoch 2: Train Loss: 1.0554, Val Loss: 0.7080 | Train Acc: 67.63%, Val Acc: 81.49%\n",
      "Epoch 3: Train Loss: 0.7993, Val Loss: 0.5608 | Train Acc: 75.93%, Val Acc: 85.49%\n",
      "Epoch 4: Train Loss: 0.6700, Val Loss: 0.4780 | Train Acc: 80.00%, Val Acc: 87.14%\n",
      "Epoch 5: Train Loss: 0.5939, Val Loss: 0.4272 | Train Acc: 82.31%, Val Acc: 88.45%\n",
      "Epoch 6: Train Loss: 0.5378, Val Loss: 0.3940 | Train Acc: 83.95%, Val Acc: 89.37%\n",
      "Epoch 7: Train Loss: 0.4974, Val Loss: 0.3627 | Train Acc: 85.06%, Val Acc: 90.02%\n",
      "Epoch 8: Train Loss: 0.4647, Val Loss: 0.3414 | Train Acc: 86.00%, Val Acc: 90.57%\n",
      "Epoch 9: Train Loss: 0.4438, Val Loss: 0.3253 | Train Acc: 86.80%, Val Acc: 90.98%\n",
      "Epoch 10: Train Loss: 0.4184, Val Loss: 0.3104 | Train Acc: 87.51%, Val Acc: 91.30%\n",
      "Epoch 11: Train Loss: 0.4041, Val Loss: 0.2987 | Train Acc: 87.96%, Val Acc: 91.44%\n",
      "Epoch 12: Train Loss: 0.3900, Val Loss: 0.2873 | Train Acc: 88.22%, Val Acc: 91.80%\n",
      "Epoch 13: Train Loss: 0.3752, Val Loss: 0.2775 | Train Acc: 88.81%, Val Acc: 92.12%\n",
      "Epoch 14: Train Loss: 0.3636, Val Loss: 0.2689 | Train Acc: 89.05%, Val Acc: 92.36%\n",
      "Epoch 15: Train Loss: 0.3531, Val Loss: 0.2624 | Train Acc: 89.50%, Val Acc: 92.37%\n",
      "Epoch 16: Train Loss: 0.3425, Val Loss: 0.2542 | Train Acc: 89.71%, Val Acc: 92.80%\n",
      "Epoch 17: Train Loss: 0.3357, Val Loss: 0.2483 | Train Acc: 89.79%, Val Acc: 92.76%\n",
      "Epoch 18: Train Loss: 0.3253, Val Loss: 0.2425 | Train Acc: 90.33%, Val Acc: 92.89%\n",
      "Epoch 19: Train Loss: 0.3206, Val Loss: 0.2372 | Train Acc: 90.47%, Val Acc: 93.14%\n",
      "Epoch 20: Train Loss: 0.3137, Val Loss: 0.2341 | Train Acc: 90.51%, Val Acc: 93.10%\n",
      "Epoch 21: Train Loss: 0.3059, Val Loss: 0.2279 | Train Acc: 90.85%, Val Acc: 93.29%\n",
      "Epoch 22: Train Loss: 0.2978, Val Loss: 0.2234 | Train Acc: 90.98%, Val Acc: 93.50%\n",
      "Epoch 23: Train Loss: 0.2972, Val Loss: 0.2196 | Train Acc: 91.01%, Val Acc: 93.49%\n",
      "Epoch 24: Train Loss: 0.2889, Val Loss: 0.2166 | Train Acc: 91.35%, Val Acc: 93.64%\n",
      "Epoch 25: Train Loss: 0.2854, Val Loss: 0.2122 | Train Acc: 91.41%, Val Acc: 93.57%\n",
      "Epoch 26: Train Loss: 0.2794, Val Loss: 0.2091 | Train Acc: 91.68%, Val Acc: 93.72%\n",
      "Epoch 27: Train Loss: 0.2760, Val Loss: 0.2065 | Train Acc: 91.74%, Val Acc: 93.82%\n",
      "Epoch 28: Train Loss: 0.2698, Val Loss: 0.2020 | Train Acc: 91.86%, Val Acc: 93.93%\n",
      "Epoch 29: Train Loss: 0.2672, Val Loss: 0.2009 | Train Acc: 91.86%, Val Acc: 93.90%\n",
      "Epoch 30: Train Loss: 0.2644, Val Loss: 0.1970 | Train Acc: 92.02%, Val Acc: 94.11%\n",
      "Epoch 31: Train Loss: 0.2593, Val Loss: 0.1942 | Train Acc: 92.09%, Val Acc: 94.24%\n",
      "Epoch 32: Train Loss: 0.2562, Val Loss: 0.1913 | Train Acc: 92.27%, Val Acc: 94.18%\n",
      "Epoch 33: Train Loss: 0.2511, Val Loss: 0.1893 | Train Acc: 92.49%, Val Acc: 94.31%\n",
      "Epoch 34: Train Loss: 0.2450, Val Loss: 0.1863 | Train Acc: 92.58%, Val Acc: 94.40%\n",
      "Epoch 35: Train Loss: 0.2452, Val Loss: 0.1849 | Train Acc: 92.65%, Val Acc: 94.48%\n",
      "Epoch 36: Train Loss: 0.2412, Val Loss: 0.1816 | Train Acc: 92.78%, Val Acc: 94.56%\n",
      "Epoch 37: Train Loss: 0.2376, Val Loss: 0.1799 | Train Acc: 92.87%, Val Acc: 94.57%\n",
      "Epoch 38: Train Loss: 0.2377, Val Loss: 0.1782 | Train Acc: 92.84%, Val Acc: 94.62%\n",
      "Epoch 39: Train Loss: 0.2340, Val Loss: 0.1765 | Train Acc: 93.06%, Val Acc: 94.68%\n",
      "Epoch 40: Train Loss: 0.2290, Val Loss: 0.1756 | Train Acc: 93.10%, Val Acc: 94.75%\n",
      "Epoch 41: Train Loss: 0.2265, Val Loss: 0.1726 | Train Acc: 93.22%, Val Acc: 94.82%\n",
      "Epoch 42: Train Loss: 0.2253, Val Loss: 0.1706 | Train Acc: 93.24%, Val Acc: 94.84%\n",
      "Epoch 43: Train Loss: 0.2235, Val Loss: 0.1695 | Train Acc: 93.34%, Val Acc: 94.86%\n",
      "Epoch 44: Train Loss: 0.2204, Val Loss: 0.1673 | Train Acc: 93.35%, Val Acc: 94.94%\n",
      "Epoch 45: Train Loss: 0.2176, Val Loss: 0.1665 | Train Acc: 93.52%, Val Acc: 95.00%\n",
      "Epoch 46: Train Loss: 0.2163, Val Loss: 0.1644 | Train Acc: 93.47%, Val Acc: 95.08%\n",
      "Epoch 47: Train Loss: 0.2139, Val Loss: 0.1620 | Train Acc: 93.53%, Val Acc: 94.98%\n",
      "Epoch 48: Train Loss: 0.2112, Val Loss: 0.1617 | Train Acc: 93.59%, Val Acc: 95.18%\n",
      "Epoch 49: Train Loss: 0.2099, Val Loss: 0.1601 | Train Acc: 93.74%, Val Acc: 95.11%\n",
      "Epoch 50: Train Loss: 0.2070, Val Loss: 0.1583 | Train Acc: 93.80%, Val Acc: 95.23%\n"
     ]
    }
   ],
   "source": [
    "for epoch in range(50):\n",
    "    # Training\n",
    "    model.train() # set the model at training status\n",
    "    epoch_train_loss, correct, total = 0, 0, 0\n",
    "    for inputs, targets in train_loader:        \n",
    "        optimizer.zero_grad()  # clear the previous gradient\n",
    "        outputs = model(inputs) # forward propagation\n",
    "        loss = criterion(outputs, targets)  # calculate loss\n",
    "        loss.backward()  # calculate the gradient by backpropagation\n",
    "        optimizer.step()  # one step in gradient descent\n",
    "        \n",
    "        epoch_train_loss += loss.item()\n",
    "        _, predicted = outputs.max(1)  # get the predicted label\n",
    "        total += targets.size(0) # count the total sample size\n",
    "        correct += predicted.eq(targets).sum().item() # if prediction==target, count as correct\n",
    "    \n",
    "    train_loss = epoch_train_loss/len(train_loader)\n",
    "    train_acc = 100*correct/total\n",
    "    \n",
    "    # Validation\n",
    "    model.eval() # set the model at evaluation status\n",
    "    epoch_val_loss, correct, total = 0, 0, 0\n",
    "    with torch.no_grad():  # we do not need to calculate gradient in evaluation\n",
    "        for inputs, targets in val_loader:            \n",
    "            outputs = model(inputs)\n",
    "            loss = criterion(outputs, targets)\n",
    "            \n",
    "            epoch_val_loss += loss.item()\n",
    "            _, predicted = outputs.max(1)\n",
    "            total += targets.size(0)\n",
    "            correct += predicted.eq(targets).sum().item()\n",
    "    \n",
    "    val_loss = epoch_val_loss/len(val_loader)\n",
    "    val_acc = 100*correct/total\n",
    "    \n",
    "    # Early stopping\n",
    "    if val_loss < best_val_loss:\n",
    "        best_val_loss = val_loss\n",
    "        patience_counter = 0\n",
    "        torch.save(model.state_dict(), 'best_model.pth')  # Save best model\n",
    "    else:\n",
    "        patience_counter += 1\n",
    "    \n",
    "    print(f'Epoch {epoch+1}: '\n",
    "          f'Train Loss: {train_loss:.4f}, Val Loss: {val_loss:.4f} | '\n",
    "          f'Train Acc: {train_acc:.2f}%, Val Acc: {val_acc:.2f}%')\n",
    "    \n",
    "    train_losses.append(train_loss)\n",
    "    val_losses.append(val_loss)\n",
    "    train_accs.append(train_acc)\n",
    "    val_accs.append(val_acc)\n",
    "    \n",
    "    if patience_counter >= patience:\n",
    "        print(\"Early stopping!\")\n",
    "        break"
   ]
  },
  {
   "cell_type": "code",
   "execution_count": 73,
   "metadata": {},
   "outputs": [
    {
     "data": {
      "image/png": "[encoded data removed]",
      "text/plain": [
       "<Figure size 700x300 with 2 Axes>"
      ]
     },
     "metadata": {},
     "output_type": "display_data"
    }
   ],
   "source": [
    "# visualize the loss \n",
    "plt.figure(figsize=(7, 3))\n",
    "plt.subplot(1, 2, 1)\n",
    "plt.plot(train_losses, label='Train Loss')\n",
    "plt.plot(val_losses, label='Val Loss')\n",
    "plt.title('Loss Curves')\n",
    "plt.legend()\n",
    "\n",
    "# visualize the accuracy\n",
    "plt.subplot(1, 2, 2)\n",
    "plt.plot(train_accs, label='Train Acc')\n",
    "plt.plot(val_accs, label='Val Acc')\n",
    "plt.title('Accuracy Curves')\n",
    "plt.legend()\n",
    "plt.show()"
   ]
  },
  {
   "cell_type": "markdown",
   "metadata": {},
   "source": [
    "# Evaluation using test set"
   ]
  },
  {
   "cell_type": "code",
   "execution_count": 74,
   "metadata": {},
   "outputs": [
    {
     "name": "stdout",
     "output_type": "stream",
     "text": [
      "Train Loss: 0.1511| Test Acc: 95.48%\n"
     ]
    }
   ],
   "source": [
    "# load the best model\n",
    "model.load_state_dict(torch.load('best_model.pth'))\n",
    "\n",
    "model.eval() # set the model at evaluation status\n",
    "total_test_loss, correct, total = 0, 0, 0\n",
    "with torch.no_grad():  # we do not need to calculate gradient in evaluation\n",
    "    for inputs, targets in test_loader:            \n",
    "        outputs = model(inputs)\n",
    "        loss = criterion(outputs, targets)\n",
    "        \n",
    "        total_test_loss += loss.item()\n",
    "        _, predicted = outputs.max(1)\n",
    "        total += targets.size(0)\n",
    "        correct += predicted.eq(targets).sum().item()\n",
    "\n",
    "# calcualte the loss and accuracy\n",
    "test_loss = total_test_loss/len(test_loader)\n",
    "test_acc = 100*correct/total\n",
    "\n",
    "print(f'Train Loss: {test_loss:.4f}| '\n",
    "      f'Test Acc: {test_acc:.2f}%')"
   ]
  },
  {
   "cell_type": "markdown",
   "metadata": {},
   "source": [
    "# Tuning example\n",
    "We have many tuning parameters in the above neural network. \n",
    "\n",
    "The key tunable parameters include dropout probability, batch size, L2 regularization strength, learning rate, network architecture, early stopping patience.\n",
    "\n",
    "There are also some other details that we can tune: the optimization method, the activation function, etc.. \n",
    "\n",
    "In the following, we give an example showing how to tune **batch size** and **dropout probability**. "
   ]
  },
  {
   "cell_type": "code",
   "execution_count": 31,
   "metadata": {},
   "outputs": [],
   "source": [
    "# set hyperparameters to tune\n",
    "hyperparam_grid = {\n",
    "    'batch_size': [64, 128, 256],    # Different mini-batch sizes\n",
    "    'dropout_prob': [0.1, 0.5, 0.7]  # Dropout probabilities to test\n",
    "}"
   ]
  },
  {
   "cell_type": "code",
   "execution_count": null,
   "metadata": {},
   "outputs": [],
   "source": [
    "# for each group of given hyperparameters, return the best validation error for comparison\n",
    "def train_evaluate_model(batch_size, dropout_prob):\n",
    "    \"\"\"Trains model with given hyperparameters and returns validation accuracy\"\"\"\n",
    "    # Create data loader with current batch size\n",
    "    train_loader = DataLoader(train_dataset, batch_size=batch_size, shuffle=True)\n",
    "    val_loader = DataLoader(val_dataset, batch_size=1024)\n",
    "    \n",
    "    # Initialize model and optimizer\n",
    "    model = myFCN(dropout_prob)\n",
    "    optimizer = optim.SGD(model.parameters(), lr=0.001, weight_decay=1e-3)\n",
    "    criterion = nn.CrossEntropyLoss()\n",
    "    \n",
    "    # Early stopping setup\n",
    "    best_val_acc = 0\n",
    "    patience_counter = 0\n",
    "    patience = 5\n",
    "    \n",
    "    for epoch in range(50):\n",
    "        # Training phase\n",
    "        model.train()\n",
    "        for inputs, targets in train_loader:\n",
    "            optimizer.zero_grad()\n",
    "            outputs = model(inputs)\n",
    "            loss = criterion(outputs, targets)\n",
    "            loss.backward()\n",
    "            optimizer.step()\n",
    "        \n",
    "        # Validation phase\n",
    "        model.eval()\n",
    "        val_correct = 0\n",
    "        with torch.no_grad():\n",
    "            for inputs, targets in val_loader:\n",
    "                outputs = model(inputs)\n",
    "                val_correct += (outputs.argmax(1) == targets).sum().item()\n",
    "        \n",
    "        val_acc = val_correct / len(val_dataset)\n",
    "        \n",
    "        # Early stopping\n",
    "        if val_acc > best_val_acc:\n",
    "            best_val_acc = val_acc\n",
    "            patience_counter = 0\n",
    "        else:\n",
    "            patience_counter += 1\n",
    "        \n",
    "        if patience_counter >= patience:\n",
    "            break\n",
    "    \n",
    "    return best_val_acc\n"
   ]
  },
  {
   "cell_type": "code",
   "execution_count": 32,
   "metadata": {},
   "outputs": [
    {
     "name": "stdout",
     "output_type": "stream",
     "text": [
      "\n",
      "Training with batch_size=64, dropout=0.1\n",
      "\n",
      "Training with batch_size=64, dropout=0.5\n",
      "\n",
      "Training with batch_size=64, dropout=0.7\n",
      "\n",
      "Training with batch_size=128, dropout=0.1\n",
      "\n",
      "Training with batch_size=128, dropout=0.5\n",
      "\n",
      "Training with batch_size=128, dropout=0.7\n",
      "\n",
      "Training with batch_size=256, dropout=0.1\n",
      "\n",
      "Training with batch_size=256, dropout=0.5\n",
      "\n",
      "Training with batch_size=256, dropout=0.7\n"
     ]
    }
   ],
   "source": [
    "# grid search of tuning parameters to get the best model\n",
    "results = {}\n",
    "best_acc = 0\n",
    "best_params = {}\n",
    "\n",
    "for batch_size in hyperparam_grid['batch_size']:\n",
    "    for dropout_prob in hyperparam_grid['dropout_prob']:\n",
    "        print(f\"\\nTraining with batch_size={batch_size}, dropout={dropout_prob}\")\n",
    "        val_acc = train_evaluate_model(batch_size, dropout_prob)\n",
    "        results[(batch_size, dropout_prob)] = val_acc\n",
    "        \n",
    "        if val_acc > best_acc:\n",
    "            best_acc = val_acc\n",
    "            best_params = {'batch_size': batch_size, 'dropout_prob': dropout_prob}"
   ]
  },
  {
   "cell_type": "code",
   "execution_count": 33,
   "metadata": {},
   "outputs": [
    {
     "data": {
      "text/plain": [
       "{'batch_size': 64, 'dropout_prob': 0.1}"
      ]
     },
     "execution_count": 33,
     "metadata": {},
     "output_type": "execute_result"
    }
   ],
   "source": [
    "best_params"
   ]
  }
 ],
 "metadata": {
  "kernelspec": {
   "display_name": "d2l2",
   "language": "python",
   "name": "python3"
  },
  "language_info": {
   "codemirror_mode": {
    "name": "ipython",
    "version": 3
   },
   "file_extension": ".py",
   "mimetype": "text/x-python",
   "name": "python",
   "nbconvert_exporter": "python",
   "pygments_lexer": "ipython3",
   "version": "3.9.18"
  }
 },
 "nbformat": 4,
 "nbformat_minor": 2
}
